{
  "nbformat": 4,
  "nbformat_minor": 0,
  "metadata": {
    "colab": {
      "provenance": [],
      "authorship_tag": "ABX9TyPEmiJUi4ufy/tXlqMQvML1",
      "include_colab_link": true
    },
    "kernelspec": {
      "name": "python3",
      "display_name": "Python 3"
    },
    "language_info": {
      "name": "python"
    }
  },
  "cells": [
    {
      "cell_type": "markdown",
      "metadata": {
        "id": "view-in-github",
        "colab_type": "text"
      },
      "source": [
        "<a href=\"https://colab.research.google.com/github/M0zziee/Sistem-Pakar-Forward-Chaining-Backward-Chaining-/blob/main/diagnosa.ipynb\" target=\"_parent\"><img src=\"https://colab.research.google.com/assets/colab-badge.svg\" alt=\"Open In Colab\"/></a>"
      ]
    },
    {
      "cell_type": "code",
      "execution_count": 1,
      "metadata": {
        "colab": {
          "base_uri": "https://localhost:8080/"
        },
        "id": "-Wtk8UTCZuks",
        "outputId": "e36c5037-ff55-4c3d-9c4a-9074f051b5ef"
      },
      "outputs": [
        {
          "output_type": "stream",
          "name": "stdout",
          "text": [
            "Collecting experta\n",
            "  Downloading experta-1.9.4-py3-none-any.whl.metadata (5.0 kB)\n",
            "Collecting frozendict==1.2 (from experta)\n",
            "  Downloading frozendict-1.2.tar.gz (2.6 kB)\n",
            "  Preparing metadata (setup.py) ... \u001b[?25l\u001b[?25hdone\n",
            "Collecting schema==0.6.7 (from experta)\n",
            "  Downloading schema-0.6.7-py2.py3-none-any.whl.metadata (14 kB)\n",
            "Downloading experta-1.9.4-py3-none-any.whl (35 kB)\n",
            "Downloading schema-0.6.7-py2.py3-none-any.whl (14 kB)\n",
            "Building wheels for collected packages: frozendict\n",
            "  Building wheel for frozendict (setup.py) ... \u001b[?25l\u001b[?25hdone\n",
            "  Created wheel for frozendict: filename=frozendict-1.2-py3-none-any.whl size=3149 sha256=95bcca2344974541043a04248cfa1f8f354fd09d7d9039e80f4f91e30bf4aaa5\n",
            "  Stored in directory: /root/.cache/pip/wheels/49/ac/f8/cb8120244e710bdb479c86198b03c7b08c3c2d3d2bf448fd6e\n",
            "Successfully built frozendict\n",
            "Installing collected packages: schema, frozendict, experta\n",
            "  Attempting uninstall: frozendict\n",
            "    Found existing installation: frozendict 2.4.6\n",
            "    Uninstalling frozendict-2.4.6:\n",
            "      Successfully uninstalled frozendict-2.4.6\n",
            "\u001b[31mERROR: pip's dependency resolver does not currently take into account all the packages that are installed. This behaviour is the source of the following dependency conflicts.\n",
            "yfinance 0.2.55 requires frozendict>=2.3.4, but you have frozendict 1.2 which is incompatible.\u001b[0m\u001b[31m\n",
            "\u001b[0mSuccessfully installed experta-1.9.4 frozendict-1.2 schema-0.6.7\n"
          ]
        }
      ],
      "source": [
        "!pip install experta"
      ]
    },
    {
      "cell_type": "code",
      "source": [
        "!pip install --upgrade frozendict"
      ],
      "metadata": {
        "colab": {
          "base_uri": "https://localhost:8080/"
        },
        "id": "PuC8de75aWtt",
        "outputId": "efa4c4be-b110-4f13-e92f-e9ea9d18ee48"
      },
      "execution_count": 2,
      "outputs": [
        {
          "output_type": "stream",
          "name": "stdout",
          "text": [
            "Requirement already satisfied: frozendict in /usr/local/lib/python3.11/dist-packages (1.2)\n",
            "Collecting frozendict\n",
            "  Downloading frozendict-2.4.6-py311-none-any.whl.metadata (23 kB)\n",
            "Downloading frozendict-2.4.6-py311-none-any.whl (16 kB)\n",
            "Installing collected packages: frozendict\n",
            "  Attempting uninstall: frozendict\n",
            "    Found existing installation: frozendict 1.2\n",
            "    Uninstalling frozendict-1.2:\n",
            "      Successfully uninstalled frozendict-1.2\n",
            "\u001b[31mERROR: pip's dependency resolver does not currently take into account all the packages that are installed. This behaviour is the source of the following dependency conflicts.\n",
            "experta 1.9.4 requires frozendict==1.2, but you have frozendict 2.4.6 which is incompatible.\u001b[0m\u001b[31m\n",
            "\u001b[0mSuccessfully installed frozendict-2.4.6\n"
          ]
        }
      ]
    },
    {
      "cell_type": "code",
      "source": [
        "from experta import KnowledgeEngine, Rule, Fact\n",
        "\n",
        "class Diagnosis(KnowledgeEngine):\n",
        "\n",
        "  @Rule(Fact(cough=True) & Fact(fever=True) & Fact(fatigue=True)) # Changed rule and fact to Rule and Fact\n",
        "  def flu(self):\n",
        "    print(\"Diagnosis: you may have the flu\")\n",
        "\n",
        "  @Rule(Fact(cough=True) & Fact(fever=True) & Fact(breathing_difficulty=True)) # Changed rule and fact to Rule and Fact\n",
        "  def phenomia(self):\n",
        "    print(\"Diagnosis: you may have phenomia\")\n",
        "\n",
        "  @Rule(Fact(sneezing=True) & Fact(runny_nose=True) & Fact(cough=False)) # Changed rule and fact to Rule and Fact\n",
        "  def cold(self):\n",
        "    print(\"Diagnosis: you may have common cold\")\n",
        "\n",
        "  @Rule(Fact(sore_throat=True) & Fact(fever=True)) # Changed rule and fact to Rule and Fact\n",
        "  def throat_infection(self):\n",
        "    print(\"Diagnosis: you may have throat infection\")\n",
        "\n",
        "  @Rule(Fact(cough=False) & Fact(fever=False) & Fact(fatigue=False)) # Changed rule and fact to Rule and Fact\n",
        "  def healty(self):\n",
        "    print(\"Diagnosis: you seem to be healty\")\n",
        "  ##@rule(f)\n",
        "  ##def\n",
        "\n",
        "def get_input():\n",
        "  \"\"\"Helper input as bollean (yes/no).\"\"\"\n",
        "  def ask_question(question):\n",
        "    return input(question + \" (yes/no): \").strip().lower() == \"yes\"\n",
        "\n",
        "  return{\n",
        "      \"cough\": ask_question(\"Do you have a cough?\"),\n",
        "      \"fever\": ask_question(\"Do you have a fever?\"),\n",
        "      \"fatigue\": ask_question(\"Do you feel fatigue?\"),\n",
        "      \"breathing_difficulty\": ask_question(\"Do you have difficulty breathing?\"),\n",
        "      \"sneezing\": ask_question(\"Do you have a sneezing?\"),\n",
        "      \"runny_nose\": ask_question(\"Do you have a stuffy or stuffy nose?\"),\n",
        "      \"sore_throat\": ask_question(\"Do you have a sore throat?\")\n",
        "  }\n",
        "  # running the expert system\n",
        "if __name__ == \"__main__\":\n",
        "  symptoms = get_input()\n",
        "  engine = Diagnosis()\n",
        "  engine.reset()\n",
        "\n",
        "  for symptom, present in symptoms.items():\n",
        "    engine.declare(Fact(**{symptom: present})) # Changed fact to Fact\n",
        "\n",
        "  engine.run()n"
      ],
      "metadata": {
        "colab": {
          "base_uri": "https://localhost:8080/"
        },
        "id": "qux08E9AakA8",
        "outputId": "a6a06c1f-bef6-46e1-90c5-c13bf926b35d"
      },
      "execution_count": null,
      "outputs": [
        {
          "output_type": "stream",
          "name": "stdout",
          "text": [
            "Do you have a cough? (yes/no): yes\n",
            "Do you have a fever? (yes/no): yes\n",
            "Do you feel tired? (yes/no): yes\n",
            "Do you have difficulty breathing? (yes/no): n\n",
            "Do you have a runny or stuffy nose? (yes/no): no\n",
            "Do you have a stuffy or stuffy nose? (yes/no): no\n",
            "Do you have a sore throat? (yes/no): no\n",
            "Diagnosis: you may have the flu\n"
          ]
        }
      ]
    },
    {
      "cell_type": "code",
      "source": [
        "from experta import *\n",
        "\n",
        "class SistemPakarMedis(KnowledgeEngine):\n",
        "\n",
        "  @Rule(Fact(demam=True) & Fact(batuk=True))\n",
        "  def flu(self):\n",
        "    print(\"Diagnosa : flu.\")\n",
        "\n",
        "  @Rule(Fact(sakit_tenggorokan=True) & Fact(demam=True))\n",
        "  def throat_infection(self):\n",
        "    print(\"Diagnosa : radang tenggorokan.\")\n",
        "\n",
        "  @Rule(Fact(nyeri_otot=True) & Fact(nyeri_perut=True))\n",
        "  def hernia(self):\n",
        "    print(\"Diagnosa : hernia.\")\n",
        "\n",
        "  @Rule(Fact(demam=True) & Fact(sakit_kepala=True) & Fact(nyeri_perut=True))\n",
        "  def typhoid(self):\n",
        "    print(\"Diagnosa : tifus.\")\n",
        "\n",
        "  #running expert system\n",
        "engine = SistemPakarMedis()\n",
        "engine.reset()\n",
        "engine.declare(Fact(nyeri_otot=True))\n",
        "engine.declare(Fact(nyeri_perut=True))\n",
        "#test penyakit baru\n",
        "engine.declare(Fact(demam=True))\n",
        "engine.declare(Fact(sakit_kepala=True))\n",
        "engine.run()"
      ],
      "metadata": {
        "colab": {
          "base_uri": "https://localhost:8080/"
        },
        "id": "TA6NKRjVmgAK",
        "outputId": "44fad53e-c2a2-4ccf-a083-fd3ee14f1984"
      },
      "execution_count": 7,
      "outputs": [
        {
          "output_type": "stream",
          "name": "stdout",
          "text": [
            "Diagnosa : tifus.\n",
            "Diagnosa : hernia.\n"
          ]
        }
      ]
    },
    {
      "cell_type": "code",
      "source": [
        "def forward_chaining(facts,rules):\n",
        "  inferred = set(facts)\n",
        "  changed =True\n",
        "\n",
        "  while changed:\n",
        "    changed = False\n",
        "    for rule in rules:\n",
        "      if rule[\"if\"].issubset(inferred) and rule[\"then\"] not in inferred:\n",
        "        inferred.add(rule[\"then\"])\n",
        "        changed = True\n",
        "  return inferred\n",
        "facts = {\"has_feathers\",\"has_beak\",\"carnivore\"}\n",
        "rules = [\n",
        "    {\"if\":{\"has_feathers\",\"has_beak\"},\"then\":\"is_bird\"},\n",
        "    {\"if\":{\"lays_eggs\",\"is_bird\"},\"then\":\"is_chicken\"},\n",
        "    {\"if\":{\"cannot_fly\",\"is_bird\"},\"then\":\"is_penguin\"},\n",
        "    {\"if\":{\"carnivore\",\"is_bird\"},\"then\":\"is_eagle\"}\n",
        "]\n",
        "\n",
        "result = forward_chaining(facts,rules)\n",
        "print(\"inferred facts :\",result)"
      ],
      "metadata": {
        "colab": {
          "base_uri": "https://localhost:8080/"
        },
        "id": "5Jn3CEpGqtk-",
        "outputId": "98b08f28-2349-4c26-91c5-3b5435f4cb66"
      },
      "execution_count": null,
      "outputs": [
        {
          "output_type": "stream",
          "name": "stdout",
          "text": [
            "inferred facts : {'has_feathers', 'has_beak', 'carnivore', 'is_eagle', 'is_bird'}\n"
          ]
        }
      ]
    },
    {
      "cell_type": "code",
      "source": [
        "def backward_chaining(goal, facts, rules):\n",
        "  if goal in facts:\n",
        "    return True\n",
        "  for rule in rules:\n",
        "    if rule[\"then\"] == goal:\n",
        "      if all(backward_chaining(cond, facts, rules) for cond in rule[\"if\"]):\n",
        "        return True\n",
        "  return False\n",
        "\n",
        "facts = {\"likes_computers\", \"solves_problems\", \"likes_to_design\"}\n",
        "rules = [\n",
        "    {\"if\": {\"likes_computers\",\"solves_problems\"}, \"then\": \"should_be_enginner\"},\n",
        "    {\"if\": {\"should_be_enginner\", \"likes_programming\"}, \"then\": \"software_enginner\"},\n",
        "    {\"if\": {\"should_be_enginner\", \"likes_to_design\"}, \"then\": \"UI/UX_designer\"},\n",
        "]\n",
        "\n",
        "goal = \"UI/UX_designer\"\n",
        "result = backward_chaining(goal, facts, rules)\n",
        "print(f\"Is'{goal}' proveable ? ->\", result)"
      ],
      "metadata": {
        "colab": {
          "base_uri": "https://localhost:8080/"
        },
        "id": "K77lG8nHuVW7",
        "outputId": "8322e221-786b-43d1-8a7e-0fc00140910b"
      },
      "execution_count": null,
      "outputs": [
        {
          "output_type": "stream",
          "name": "stdout",
          "text": [
            "Is'UI/UX_designer' proveable ? -> True\n"
          ]
        }
      ]
    },
    {
      "cell_type": "markdown",
      "source": [
        "latian forward"
      ],
      "metadata": {
        "id": "LoyHgzuM1MCN"
      }
    },
    {
      "cell_type": "code",
      "source": [
        "def forward_chaining(facts,rules):\n",
        "  inferred = set(facts)\n",
        "  changed =True\n",
        "\n",
        "  while changed:\n",
        "    changed = False\n",
        "    for rule in rules:\n",
        "      if rule[\"if\"].issubset(inferred) and rule[\"then\"] not in inferred:\n",
        "        inferred.add(rule[\"then\"])\n",
        "        changed = True\n",
        "  return inferred\n",
        "facts = {\"has_wheels\",\"has_engine\",\"has_four_wheels\"}\n",
        "rules = [\n",
        "    {\"if\":{\"has_wheels\",\"has_engine\"},\"then\":\"is_vehicle\"},\n",
        "    {\"if\":{\"is_vehicle\",\"has_two_wheels\"},\"then\":\"is_motorcycle\"},\n",
        "    {\"if\":{\"is_vehicle\",\"has_four_wheels\"},\"then\":\"is_car\"},\n",
        "]\n",
        "\n",
        "result = forward_chaining(facts,rules)\n",
        "print(\"inferred facts :\",result)"
      ],
      "metadata": {
        "colab": {
          "base_uri": "https://localhost:8080/"
        },
        "id": "wL23Uv1Lyoi3",
        "outputId": "b9b605bd-2e06-45d3-fc46-cc2a4caa0b8b"
      },
      "execution_count": null,
      "outputs": [
        {
          "output_type": "stream",
          "name": "stdout",
          "text": [
            "inferred facts : {'has_engine', 'is_car', 'has_wheels', 'is_vehicle', 'has_four_wheels'}\n"
          ]
        }
      ]
    },
    {
      "cell_type": "markdown",
      "source": [
        "latian backward"
      ],
      "metadata": {
        "id": "EUWpjqcS1O43"
      }
    },
    {
      "cell_type": "code",
      "source": [
        "def backward_chaining(goal, facts, rules):\n",
        "  if goal in facts:\n",
        "    return True\n",
        "  for rule in rules:\n",
        "    if rule[\"then\"] == goal:\n",
        "      if all(backward_chaining(cond, facts, rules) for cond in rule[\"if\"]):\n",
        "        return True\n",
        "  return False\n",
        "\n",
        "facts = {\"has_feathers\", \"has_small_wings\"}\n",
        "rules = [\n",
        "    {\"if\": {\"has_small_wings\"}, \"then\": \"cannot_fly\"},\n",
        "    {\"if\": {\"has_feathers\"}, \"then\": \"is_bird\"},\n",
        "    {\"if\": {\"is_bird\",\"cannot_fly\"}, \"then\": \"is_penguin\"},\n",
        "]\n",
        "\n",
        "goal = \"is_penguin\"\n",
        "result = backward_chaining(goal, facts, rules)\n",
        "print(f\"Is'{goal}' is that a true penguin ? ->\", result)"
      ],
      "metadata": {
        "colab": {
          "base_uri": "https://localhost:8080/"
        },
        "id": "ItlQYNsk1Rlt",
        "outputId": "2b8c35a0-7ffc-4b35-d6ec-bc6403cbedf7"
      },
      "execution_count": null,
      "outputs": [
        {
          "output_type": "stream",
          "name": "stdout",
          "text": [
            "Is'is_penguin' is that a true penguin ? -> True\n"
          ]
        }
      ]
    },
    {
      "cell_type": "markdown",
      "source": [
        "tugas\n",
        "\n",
        "bikin panyakit anyar di code yang ada di atas"
      ],
      "metadata": {
        "id": "NPEBOP1J4J5L"
      }
    },
    {
      "cell_type": "code",
      "source": [],
      "metadata": {
        "id": "1T9Yw1Cx4QNa"
      },
      "execution_count": null,
      "outputs": []
    }
  ]
}